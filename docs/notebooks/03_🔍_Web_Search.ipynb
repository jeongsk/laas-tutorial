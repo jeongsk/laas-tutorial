{
 "cells": [
  {
   "cell_type": "code",
   "execution_count": 4,
   "metadata": {},
   "outputs": [],
   "source": [
    "import toml\n",
    "\n",
    "secrets = toml.load(\"../../.streamlit/secrets.toml\")\n",
    "\n",
    "LAAS_API_KEY = secrets[\"LAAS_API_KEY\"]\n",
    "TAVILY_API_KEY = secrets[\"TAVILY_API_KEY\"]"
   ]
  },
  {
   "cell_type": "code",
   "execution_count": 10,
   "metadata": {},
   "outputs": [
    {
     "data": {
      "text/plain": [
       "{'query': '대한민국 대통령 2024',\n",
       " 'follow_up_questions': None,\n",
       " 'answer': None,\n",
       " 'images': [],\n",
       " 'results': [{'title': '[전문]윤석열 대통령 제79주년 광복절 경축사 - Korea Daily',\n",
       "   'url': 'https://news.koreadaily.com/2024/08/14/society/politics/20240814191119526.html',\n",
       "   'content': '윤석열 대통령이 15일 \\'제79주년 광복절 경축식\\'에서 \"저와 정부는 2024년 올해를 \\'자유·평화·번영의 통일 대한민국\\' 으로 나아가는 새로운 원년으로 만들겠다\"고 선언했다. 윤 대통령은 이날 북한에 남북 당국 간 실무 차원의 \\'대화협의체\\' 설치를 제안했다 ...',\n",
       "   'score': 0.9990378,\n",
       "   'raw_content': None},\n",
       "  {'title': '[전문] 윤석열 대통령 2024년 신년사 - 서울경제',\n",
       "   'url': 'https://www.sedaily.com/NewsView/2D3WYDG9XF',\n",
       "   'content': \"윤석열 대통령이 2024년 갑진년 새해 첫날인 1일 서울 용산 대통령실 청사에서 신년사를 발표하고 있다. 연합뉴스. 더욱 힘을 내주셨습니다. 높은 물가와 경기 퇴조의 '스테그플레이션'을 겪었습니다. 큰 어려움을 겪었습니다. 피땀 어린 노력 덕분이었습니다 ...\",\n",
       "   'score': 0.99850464,\n",
       "   'raw_content': None},\n",
       "  {'title': '윤석열 대통령 투르크메니스탄 국빈방문 결과 상세보기|2024년 | 외교부',\n",
       "   'url': 'https://www.mofa.go.kr/www/brd/m_26779/view.do?seq=568',\n",
       "   'content': '양 정상은 2024년 6월 10일 우호적이고 따뜻한 분위기 속에서 개최된 정상회담에서 경제, 사회, 문화 분야에서 양국 간 협력을 확대·심화하는 방안과 공동의 관심사인 지역 및 국제 문제에 대해 논의하였다. 이러한 측면에서, 양 정상은 2023년 10월 31일 체결된 대한민국 정부와 투르크메니스탄 정부 간의 무역 및 경제협력에 관한 협정에 기반하여 양국 간 호혜적인 경제협력 관계를 구축해 나가기로 하였다. 양 정상은 향후 한-중앙아 협력 포럼의 발전을 위해 함께 노력해 나가기로 하였으며, 투르크메니스탄 대통령은 2025년 최초로 개최되는 한-중앙아시아 정상회의의 성공적인 개최를 기원하였다. 이러한 측면에서, 양 정상은 대한민국과 중앙아시아 국가들 간 평화 증진을 위한 파트너십 및 상호 신뢰와 무역, 경제, 문화, 인도주의적 협력 강화를 목표로 2024년 하반기에 아시가바트에서 제2차 한-중앙아시아 국회의장 회의가 개최되는 것을 환영하였다.',\n",
       "   'score': 0.9935619,\n",
       "   'raw_content': None},\n",
       "  {'title': '2024년 윤석열 대통령 신년사 - 연설문 | 브리핑룸 | 대한민국 정책브리핑',\n",
       "   'url': 'https://korea.kr/briefing/speechView.do?newsId=132036101',\n",
       "   'content': '아울러, 저출산의 원인으로 지적되고 있는\\xa0우리 사회의 불필요한 과잉 경쟁을\\xa0개선하는 것이 매우 중요합니다.이를 위해 우리 정부의 중요한 국정 목표인\\xa0지방균형발전 정책을 확실하게\\xa0추진해 나가겠습니다.\\n존경하는 국민 여러분,\\n정부는 출범 이후,\\xa0우리 외교의 중심축인 한미동맹을\\xa0완전히 복원하여 우리 미래를 위해, 우리 아이들을 위해\\xa0언젠가 누군가 해야 한다면,\\xa0바로 지금 제가 하겠습니다.\\n새해에는 국민 여러분 모두\\xa0원하시는 바를 성취하시고,\\xa0저와 정부도 최선을 다해 뛰겠습니다.\\n감사합니다.\\n정책브리핑 게시물 운영원칙에 따라 다음과 같은 게시물은 삭제 또는 계정이 민생을 보살피고 경제를 살리기 위해\\xa0할 수 있는 최선을 다했지만,\\xa0늘 부족하고 송구스러운 마음이었습니다.\\n하지만, 이렇게 힘든 상황 속에서도\\xa0우리 국민 여러분께서는\\xa0더욱 힘을 내주셨습니다.\\n 2024년 새해, 국민 여러분께서는\\xa0어떤 소망을 품고\\xa0첫 아침을 맞으셨습니까?\\n바라시는 소망은 다 다르겠지만,\\xa0작년보다 나은 새해를 꿈꾸는 마음은\\xa0모두 같으리라 생각합니다.\\n 아울러, 국민이 안심할 수 있는\\xa0사이버 환경을 조성해 나가면서\\xa0북한을 포함한 다양한 사이버 위협으로부터\\xa0국가 주요 기관과 민간 핵심 시설을\\xa0빈틈없이 보호하겠습니다.\\n',\n",
       "   'score': 0.9628132,\n",
       "   'raw_content': None},\n",
       "  {'title': '대한민국 대통령실',\n",
       "   'url': 'https://www.president.go.kr/',\n",
       "   'content': '글자크기 설정\\n대한민국 대통령\\n대통령실\\n국정과제\\n대통령실 뉴스룸\\n정보공개\\n국민제안\\n메인 기사\\n\"국제사회가 직면한 도전을 극복하고 보다 자유롭고\\n번영할 수 있도록 한국과 영국이 긴밀히 협력해야\"\\n“한국과 영국이 세계 평화와 번영을 함께\\n리드해 나가는 지도력을 발휘할 수 있게 되기를 기대”\\n\"대한민국 정부는 과학기술 협력 파트너로서\\n영국과의 공고한 연대를 제안하고, 희망하고 있어\"\\n\"오늘 한영 FTA 개선협상 개시 선언...\\n양국 기업들이 마음껏 뛸 수 있는 운동장을 만들고, 함께 세계시장을 선도해 갈 것\"\\n\"한국과 영국은 피를 나눈 혈맹의 동지... 보편적 가치에 기반해 영국과 함께 전 세계의 자유 평화 번영 미래를 향해 협력할 것\"\\n\"도전을 기회로 바꿔줄 양국의 우정\"\\n\"기후위기는 지속 가능한 미래를 위한 가장 시급한 과제..\\n 대화... 글로벌 연구 협력과 교류에 대한 우리 정부의 지원의지 표명\\n윤석열 대통령, 한-영 최고과학자 과학기술 미래포럼 참석 관련 이도운 대변인 서면 브리핑\\n브리핑\\n2023.11.22\\n尹 대통령, 영국 노동당 당수 접견\\n보도자료\\n2023.11.22\\n한영 정상회담 결과\\n보도자료\\n2023.11.22\\n정책에 대한 오해, 불충분한 설명을 대통령실이 직접 바로잡아 알려드립니다.\\n 순방외교 국익 효과 검증 필요?\\n\"역대 최대 외국인직접투자 실적, UAE 300억 달러 투자 결심, 반도체 수출 리스크 해소 등 성과 달성\"\\n2023.10.10\\n미국 정부 도감청 의혹?\\n\"청와대보다 훨씬 강화된 도감청 방지 시스템 운용 중\"\\n2023.04.11\\n日 후쿠시마산 수산물 타협?\\n\"후쿠시마산 수산물 국내 들어올 일 없어\"\\n2023.03.31\\n日 후쿠시마산 수산물 수입?\\n 대한민국은 기후격차 해소에 책임있게 기여해 나갈 것\"\\n\"2030년 부산 엑스포...경쟁의 논리에서 연대의 가치로\\n관점을 전환한 엑스포로 기억될 것\"\\nAPEC 정상회의 참석을 위한 미국 샌프란시스코 방문\\n\"기후위기는 지속 가능한 미래를 위한 가장 시급한 과제.. 대한민국은 기후격차 해소에 책임있게 기여해 나갈 것\"\\nAPEC이 조기경보시스템 출국 [서울공항 출발행사]\\n미국 샌프란시스코 APEC 정상회의 참석\\n브리핑룸\\n국민과 소통하는\\n대통령실 브리핑룸입니다.\\n',\n",
       "   'score': 0.92007446,\n",
       "   'raw_content': None}],\n",
       " 'response_time': 2.31}"
      ]
     },
     "execution_count": 10,
     "metadata": {},
     "output_type": "execute_result"
    }
   ],
   "source": [
    "from tavily import TavilyClient\n",
    "\n",
    "tavily_client = TavilyClient(api_key=TAVILY_API_KEY)\n",
    "tavily_client.search(query=\"대한민국 대통령 2024\")"
   ]
  },
  {
   "cell_type": "code",
   "execution_count": 5,
   "metadata": {},
   "outputs": [],
   "source": [
    "LAAS_API_URL = \"https://api-laas.wanted.co.kr/api/preset/v2/chat/completions\"\n",
    "LAAS_PROJECT = \"JEONGSK\"\n",
    "LAAS_HASH = \"03e28d0f8fcb9184b37cc5132bff67c3c74b8387bc84002649917d2cf6b131bc\""
   ]
  },
  {
   "cell_type": "code",
   "execution_count": 6,
   "metadata": {},
   "outputs": [],
   "source": [
    "from datetime import datetime\n",
    "from typing import Dict, List, Optional\n",
    "import requests\n",
    "\n",
    "def make_laas_api_request(messages: List[Dict]) -> Optional[Dict]:\n",
    "    response = requests.post(\n",
    "        LAAS_API_URL,\n",
    "        headers={\"project\": LAAS_PROJECT, \"apikey\": LAAS_API_KEY},\n",
    "        json={\n",
    "            \"hash\": LAAS_HASH,\n",
    "            \"params\": {\"date\": datetime.now().strftime(\"%Y-%m-%d %H:%M:%S\")},\n",
    "            \"messages\": messages,\n",
    "        },\n",
    "    )\n",
    "    response.raise_for_status()\n",
    "    return response.json()"
   ]
  },
  {
   "cell_type": "code",
   "execution_count": 7,
   "metadata": {},
   "outputs": [
    {
     "data": {
      "text/plain": [
       "{'id': 'chatcmpl-A5ThTac3AsoeI3ZkiLmlZNYuPK75L',\n",
       " 'object': 'chat.completion',\n",
       " 'created': 1725869171976,\n",
       " 'model': 'gpt-4o-mini-2024-07-18',\n",
       " 'choices': [{'finish_reason': 'tool_calls',\n",
       "   'index': 0,\n",
       "   'message': {'role': 'assistant',\n",
       "    'content': None,\n",
       "    'tool_calls': [{'id': 'call_xQ2HQfD0hMpE8TTVz9dVJeBS',\n",
       "      'type': 'function',\n",
       "      'function': {'name': 'search',\n",
       "       'arguments': '{\"query\":\"현재 대한민국 대통령 2024\"}'}}]}}],\n",
       " 'usage': {'prompt_tokens': 739, 'completion_tokens': 18, 'total_tokens': 757}}"
      ]
     },
     "execution_count": 7,
     "metadata": {},
     "output_type": "execute_result"
    }
   ],
   "source": [
    "make_laas_api_request([{\"role\": \"user\", \"content\": \"현재 대한민국 대통령은?\"}])"
   ]
  },
  {
   "cell_type": "code",
   "execution_count": 11,
   "metadata": {},
   "outputs": [
    {
     "data": {
      "text/plain": [
       "{'id': 'chatcmpl-A5TolVKZUDmzaK7l5dzEUnW9hftNs',\n",
       " 'object': 'chat.completion',\n",
       " 'created': 1725869624426,\n",
       " 'model': 'gpt-4o-mini-2024-07-18',\n",
       " 'choices': [{'finish_reason': 'stop',\n",
       "   'index': 0,\n",
       "   'message': {'role': 'assistant',\n",
       "    'content': \"현재 대한민국의 대통령은 윤석열입니다. 그는 2024년을 '자유·평화·번영의 통일 대한민국'으로 나아가는 새로운 원년으로 만들겠다고 선언했습니다[1].\"}}],\n",
       " 'usage': {'prompt_tokens': 854, 'completion_tokens': 47, 'total_tokens': 901}}"
      ]
     },
     "execution_count": 11,
     "metadata": {},
     "output_type": "execute_result"
    }
   ],
   "source": [
    "make_laas_api_request([\n",
    "    {\"role\": \"user\", \"content\": \"현재 대한민국 대통령은?\"},\n",
    "    {\"role\": \"assistant\", \"content\": None, \"tool_calls\": [\n",
    "        {\n",
    "             'id': 'call_xQ2HQfD0hMpE8TTVz9dVJeBS',\n",
    "             'type': 'function',\n",
    "             'function': {'name': 'search', 'arguments': '{\"query\":\"현재 대한민국 대통령 2024\"}'}\n",
    "        }\n",
    "    ]},\n",
    "    {\n",
    "        \"role\": \"tool\",\n",
    "        \"content\": '윤석열 대통령이 15일 \\'제79주년 광복절 경축식\\'에서 \"저와 정부는 2024년 올해를 \\'자유·평화·번영의 통일 대한민국\\' 으로 나아가는 새로운 원년으로 만들겠다\"고 선언했다. 윤 대통령은 이날 북한에 남북 당국 간 실무 차원의 \\'대화협의체\\' 설치를 제안했다 ...',\n",
    "        \"tool_call_id\": \"call_xQ2HQfD0hMpE8TTVz9dVJeBS\"\n",
    "    }\n",
    "])"
   ]
  },
  {
   "cell_type": "code",
   "execution_count": null,
   "metadata": {},
   "outputs": [],
   "source": []
  }
 ],
 "metadata": {
  "kernelspec": {
   "display_name": "Python 3",
   "language": "python",
   "name": "python3"
  },
  "language_info": {
   "codemirror_mode": {
    "name": "ipython",
    "version": 3
   },
   "file_extension": ".py",
   "mimetype": "text/x-python",
   "name": "python",
   "nbconvert_exporter": "python",
   "pygments_lexer": "ipython3",
   "version": "3.12.5"
  }
 },
 "nbformat": 4,
 "nbformat_minor": 2
}
